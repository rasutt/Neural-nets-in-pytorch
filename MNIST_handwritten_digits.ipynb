{
 "cells": [
  {
   "cell_type": "markdown",
   "id": "7b8b27bb",
   "metadata": {
    "id": "7b8b27bb"
   },
   "source": [
    "# MNIST handwritten digits"
   ]
  },
  {
   "cell_type": "markdown",
   "id": "c80beea2",
   "metadata": {
    "id": "c80beea2"
   },
   "source": [
    "Classifying handwritten digits using a neural network in pytorch."
   ]
  },
  {
   "cell_type": "markdown",
   "id": "cacb308a",
   "metadata": {
    "id": "cacb308a"
   },
   "source": [
    "Referring to the pytorch tutorials at https://pytorch.org/tutorials/beginner/basics/intro.html."
   ]
  },
  {
   "cell_type": "markdown",
   "id": "3fc18fe0",
   "metadata": {
    "id": "3fc18fe0"
   },
   "source": [
    "Got to 95% accuarcy without using pooling, normalisation, regularisation, or optimisation algorithms beyond SGD.\n",
    "\n",
    "Up to 98.6% accuracy now, with batch-norm and dropout seeming to help the most.  Can still try better optimisers and parameter regularisation beyond dropout."
   ]
  },
  {
   "cell_type": "markdown",
   "id": "08f6ac2a",
   "metadata": {
    "id": "08f6ac2a"
   },
   "source": [
    "## Getting the data"
   ]
  },
  {
   "cell_type": "code",
   "execution_count": 3,
   "id": "8bf0623e",
   "metadata": {
    "id": "8bf0623e"
   },
   "outputs": [],
   "source": [
    "# Packages and modules\n",
    "import torch\n",
    "import torch.nn as nn\n",
    "import matplotlib.pyplot as plt\n",
    "\n",
    "# Functions and classes\n",
    "from torchvision.transforms import Compose, Normalize, ToTensor, Lambda\n",
    "from torchvision.datasets import MNIST\n",
    "from torch.utils.data import DataLoader"
   ]
  },
  {
   "cell_type": "code",
   "execution_count": 12,
   "id": "a235b9fa",
   "metadata": {
    "colab": {
     "base_uri": "https://localhost:8080/"
    },
    "id": "a235b9fa",
    "outputId": "2c6dcd79-f781-46d0-bce2-92592ee2eabe"
   },
   "outputs": [
    {
     "name": "stdout",
     "output_type": "stream",
     "text": [
      "torch.Size([3, 1, 28, 28])\n",
      "torch.Size([3, 10])\n"
     ]
    }
   ],
   "source": [
    "# Download and/or load dataset (thanks Yann), and transform to tensors, and one-\n",
    "# hot encodings\n",
    "input_transform = Compose([ToTensor(), Normalize(0.5, 0.5)])\n",
    "target_transform = Lambda(\n",
    "    lambda y: \n",
    "    torch.zeros(10, dtype=torch.float).scatter_(0, torch.tensor(y), value=1)\n",
    ")\n",
    "train = MNIST(\n",
    "    root=\"data\", train=True, transform=input_transform, \n",
    "    target_transform=target_transform, download=True\n",
    ")\n",
    "test = MNIST(\n",
    "    root=\"data\", train=False, transform=input_transform, \n",
    "    target_transform=target_transform, download=True\n",
    ")\n",
    "\n",
    "# Make dataloader\n",
    "train_dataloader = DataLoader(train, batch_size=3)\n",
    "\n",
    "# Get first batch of samples and check shape\n",
    "batch_idx, (example_data, example_targets) = next(enumerate(train_dataloader))\n",
    "print(example_data.shape)\n",
    "print(example_targets.shape)"
   ]
  },
  {
   "cell_type": "code",
   "execution_count": 13,
   "id": "509ad833",
   "metadata": {
    "colab": {
     "base_uri": "https://localhost:8080/",
     "height": 281
    },
    "id": "509ad833",
    "outputId": "11f753cd-f5f4-4431-d457-4e2d933e6a4a",
    "scrolled": true
   },
   "outputs": [
    {
     "data": {
      "image/png": "[encoded data removed]",
      "text/plain": [
       "<Figure size 1080x288 with 3 Axes>"
      ]
     },
     "metadata": {
      "needs_background": "light"
     },
     "output_type": "display_data"
    }
   ],
   "source": [
    "# Show first few inputs and labels\n",
    "fig, (ax1, ax2, ax3) = plt.subplots(1, 3, figsize=(15, 4))\n",
    "for i in range(3):\n",
    "    ax = [ax1, ax2, ax3][i]\n",
    "    ax.imshow(example_data[i][0])\n",
    "    ax.set_title(f\"{example_targets[i].argmax(0)}\")\n",
    "plt.show()"
   ]
  },
  {
   "cell_type": "markdown",
   "id": "404674bf",
   "metadata": {
    "id": "404674bf"
   },
   "source": [
    "## Convolutional neural network"
   ]
  },
  {
   "cell_type": "code",
   "execution_count": 49,
   "id": "b87cbfb7",
   "metadata": {
    "colab": {
     "base_uri": "https://localhost:8080/"
    },
    "id": "b87cbfb7",
    "outputId": "79b64aea-0f5e-4a9d-fcfa-364ca827ac46"
   },
   "outputs": [
    {
     "name": "stdout",
     "output_type": "stream",
     "text": [
      "Input: torch.Size([2, 1, 28, 28])\n",
      "Convolved: torch.Size([2, 2, 2, 2])\n",
      "Pooled: torch.Size([2, 2, 1, 1])\n",
      "Flattened: torch.Size([2, 2])\n",
      "Linear: tensor([[ 0.4595,  0.3458, -0.6157, -0.1866],\n",
      "        [ 0.4696,  0.3684, -0.7431, -0.2623]], grad_fn=<AddmmBackward0>)\n",
      "Batchnorm: (tensor([[-0.8481, -0.9628,  0.9988,  0.9965],\n",
      "        [ 0.8481,  0.9628, -0.9988, -0.9965]],\n",
      "       grad_fn=<NativeBatchNormBackward0>),)\n",
      "ReLU: tensor([[0.0000, 0.0000, 0.9988, 0.9965],\n",
      "        [0.8481, 0.9628, 0.0000, 0.0000]], grad_fn=<ReluBackward0>)\n",
      "Dropout: tensor([[0.0000, 0.0000, 0.0000, 1.9931],\n",
      "        [1.6961, 0.0000, 0.0000, 0.0000]], grad_fn=<MulBackward0>)\n",
      "Model: tensor([[ 0.2827,  0.4515,  1.2267, -0.3784],\n",
      "        [-0.3372, -0.6575, -0.1264, -0.7627]], grad_fn=<AddmmBackward0>)\n",
      "Probabilities: tensor([[0.1897, 0.2246, 0.4877, 0.0980],\n",
      "        [0.2767, 0.2009, 0.3416, 0.1808]], grad_fn=<SoftmaxBackward0>)\n",
      "Predicted class: tensor([2, 2])\n"
     ]
    }
   ],
   "source": [
    "# Breakdown modelling functions\n",
    "X = torch.rand(2, 1, 28, 28)\n",
    "# X = example_data[:1]\n",
    "print(f\"Input: {X.shape}\")\n",
    "X_conv = nn.Conv2d(1, 2, 27)(X)\n",
    "print(f\"Convolved: {X_conv.shape}\")\n",
    "X_pool = nn.MaxPool2d(2)(X_conv)\n",
    "print(f\"Pooled: {X_pool.shape}\")\n",
    "X_flat = nn.Flatten()(X_pool)\n",
    "print(f\"Flattened: {X_flat.shape}\")\n",
    "X_l = nn.Linear(2, 4)(X_flat)\n",
    "print(f\"Linear: {X_l}\")\n",
    "X_batch = nn.BatchNorm1d(num_features=4)(X_l),\n",
    "print(f\"Batchnorm: {X_batch}\")\n",
    "X_r = nn.ReLU()(X_batch[0])\n",
    "print(f\"ReLU: {X_r}\")\n",
    "X_drop = nn.Dropout()(X_r)\n",
    "print(f\"Dropout: {X_drop}\")\n",
    "logits = nn.Linear(4, 4)(X_drop)\n",
    "print(f\"Model: {logits}\")\n",
    "pred_probab = nn.Softmax(dim=1)(logits)\n",
    "print(f\"Probabilities: {pred_probab}\")\n",
    "print(f\"Predicted class: {pred_probab.argmax(1)}\")"
   ]
  },
  {
   "cell_type": "code",
   "execution_count": 15,
   "id": "8cf396b1",
   "metadata": {
    "id": "8cf396b1"
   },
   "outputs": [],
   "source": [
    "# Create neural network model class\n",
    "class NeuralNetwork(nn.Module):\n",
    "    def __init__(self):\n",
    "        super(NeuralNetwork, self).__init__()\n",
    "        self.seq_modules = nn.Sequential(\n",
    "            nn.Conv2d(in_channels=1, out_channels=32, kernel_size=5),\n",
    "            nn.ReLU(),\n",
    "            nn.MaxPool2d(kernel_size=2),\n",
    "            nn.Dropout(),\n",
    "            nn.BatchNorm2d(num_features=32),\n",
    "            nn.Conv2d(in_channels=32, out_channels=32, kernel_size=4),\n",
    "            nn.ReLU(),\n",
    "            nn.MaxPool2d(kernel_size=2),\n",
    "            nn.Flatten(),\n",
    "            nn.Dropout(),\n",
    "            nn.BatchNorm1d(num_features=32*4*4),\n",
    "            nn.Linear(32*4*4, 10),\n",
    "        )\n",
    "\n",
    "    def forward(self, x):\n",
    "        logits = self.seq_modules(x)\n",
    "        return logits"
   ]
  },
  {
   "cell_type": "markdown",
   "id": "ad76ed65",
   "metadata": {
    "id": "ad76ed65"
   },
   "source": [
    "## Create model on GPU"
   ]
  },
  {
   "cell_type": "code",
   "execution_count": 16,
   "id": "54f1c8b4",
   "metadata": {
    "colab": {
     "base_uri": "https://localhost:8080/"
    },
    "id": "54f1c8b4",
    "outputId": "7e91ce50-30a2-4075-e020-5460cc784a55"
   },
   "outputs": [
    {
     "name": "stdout",
     "output_type": "stream",
     "text": [
      "Using cuda device\n"
     ]
    }
   ],
   "source": [
    "# Set device to GPU or CPU\n",
    "device = \"cuda\" if torch.cuda.is_available() else \"cpu\"\n",
    "print(f\"Using {device} device\")"
   ]
  },
  {
   "cell_type": "code",
   "execution_count": 17,
   "id": "9b1fa591",
   "metadata": {
    "colab": {
     "base_uri": "https://localhost:8080/"
    },
    "id": "9b1fa591",
    "outputId": "65a05677-f8fd-4a02-ea09-7b2dce6fdc23",
    "scrolled": false
   },
   "outputs": [
    {
     "name": "stdout",
     "output_type": "stream",
     "text": [
      "NeuralNetwork(\n",
      "  (seq_modules): Sequential(\n",
      "    (0): Conv2d(1, 32, kernel_size=(5, 5), stride=(1, 1))\n",
      "    (1): ReLU()\n",
      "    (2): MaxPool2d(kernel_size=2, stride=2, padding=0, dilation=1, ceil_mode=False)\n",
      "    (3): Dropout(p=0.5, inplace=False)\n",
      "    (4): BatchNorm2d(32, eps=1e-05, momentum=0.1, affine=True, track_running_stats=True)\n",
      "    (5): Conv2d(32, 32, kernel_size=(4, 4), stride=(1, 1))\n",
      "    (6): ReLU()\n",
      "    (7): MaxPool2d(kernel_size=2, stride=2, padding=0, dilation=1, ceil_mode=False)\n",
      "    (8): Flatten(start_dim=1, end_dim=-1)\n",
      "    (9): Dropout(p=0.5, inplace=False)\n",
      "    (10): BatchNorm1d(512, eps=1e-05, momentum=0.1, affine=True, track_running_stats=True)\n",
      "    (11): Linear(in_features=512, out_features=10, bias=True)\n",
      "  )\n",
      ")\n"
     ]
    }
   ],
   "source": [
    "# Create neural network model\n",
    "conv_model = NeuralNetwork().to(device)\n",
    "print(conv_model)"
   ]
  },
  {
   "cell_type": "code",
   "execution_count": 18,
   "id": "ad4c1883",
   "metadata": {
    "colab": {
     "base_uri": "https://localhost:8080/"
    },
    "id": "ad4c1883",
    "outputId": "695c6a34-a6c5-4420-b9be-13002b40de2b"
   },
   "outputs": [
    {
     "data": {
      "text/plain": [
       "tensor([[-0.9094,  0.1168,  0.2276,  0.0229, -0.2987,  0.4649,  0.7213, -0.1713,\n",
       "          0.8408, -1.0028],\n",
       "        [ 0.9945, -0.1931, -0.2633, -0.0070,  0.2674, -0.5303, -0.6828,  0.1948,\n",
       "         -0.7733,  1.0725]], device='cuda:0', grad_fn=<AddmmBackward0>)"
      ]
     },
     "execution_count": 18,
     "metadata": {},
     "output_type": "execute_result"
    }
   ],
   "source": [
    "# Use model to get predictions\n",
    "conv_model(X.to(device))"
   ]
  },
  {
   "cell_type": "code",
   "execution_count": 19,
   "id": "79570e7b",
   "metadata": {
    "colab": {
     "base_uri": "https://localhost:8080/"
    },
    "id": "79570e7b",
    "outputId": "f68fd876-f8cb-4cbd-f445-17f743491ddd"
   },
   "outputs": [
    {
     "name": "stdout",
     "output_type": "stream",
     "text": [
      "Layer: seq_modules.0.weight\n",
      "Size: torch.Size([32, 1, 5, 5])\n",
      "Values : tensor([[[[-0.0228,  0.1963, -0.1348, -0.0026,  0.0868],\n",
      "          [-0.0830, -0.0512,  0.1998, -0.0492, -0.0287],\n",
      "          [-0.1365, -0.1450, -0.0322,  0.1370, -0.1253],\n",
      "          [-0.0149,  0.1834,  0.0088, -0.1674,  0.0551],\n",
      "          [-0.0028, -0.1960,  0.1904, -0.0688,  0.1236]]]], device='cuda:0',\n",
      "       grad_fn=<SliceBackward0>) \n",
      "\n"
     ]
    }
   ],
   "source": [
    "name, param = next(conv_model.named_parameters())\n",
    "print(f\"Layer: {name}\")\n",
    "print(f\"Size: {param.size()}\")\n",
    "print(f\"Values : {param[:1]} \\n\")"
   ]
  },
  {
   "cell_type": "markdown",
   "id": "4K-9ag29WfP1",
   "metadata": {
    "id": "4K-9ag29WfP1"
   },
   "source": [
    "## Training and testing loops\n",
    "\n",
    "Pytorch has no model.fit()."
   ]
  },
  {
   "cell_type": "code",
   "execution_count": 20,
   "id": "8777c4e0",
   "metadata": {
    "id": "8777c4e0"
   },
   "outputs": [],
   "source": [
    "# Training and testing functions\n",
    "def train_loop(dataloader, model, loss_fn, optimizer):\n",
    "    size = len(dataloader.dataset)\n",
    "    for batch, (X, y) in enumerate(dataloader):\n",
    "        # Compute prediction and loss\n",
    "        pred = model(X.to(device))\n",
    "        loss = loss_fn(pred, y.to(device))\n",
    "\n",
    "        # Backpropagation\n",
    "        optimizer.zero_grad()\n",
    "        loss.backward()\n",
    "        optimizer.step()\n",
    "\n",
    "        if batch % 100 == 0:\n",
    "            loss, current = loss.item(), batch * len(X)\n",
    "            print(f\"loss: {loss:>7f}  [{current:>5d}/{size:>5d}]\")\n",
    "\n",
    "def test_loop(dataloader, model, loss_fn):\n",
    "    size = len(dataloader.dataset)\n",
    "    num_batches = len(dataloader)\n",
    "    test_loss, correct = 0, 0\n",
    "\n",
    "    with torch.no_grad():\n",
    "        for X, y in dataloader:\n",
    "            y = y.to(device)\n",
    "            pred = model(X.to(device))\n",
    "            test_loss += loss_fn(pred, y).item()\n",
    "            correct += (pred.argmax(1) == y.argmax(1)).type(torch.float).sum().item()\n",
    "\n",
    "    test_loss /= num_batches\n",
    "    correct /= size\n",
    "    print(f\"Test Error: \\n Accuracy: {(100*correct):>0.1f}%, Avg loss: {test_loss:>8f} \\n\")\n",
    "    \n",
    "    return correct"
   ]
  },
  {
   "cell_type": "markdown",
   "id": "21f33cd5",
   "metadata": {
    "id": "21f33cd5"
   },
   "source": [
    "## Find batch size"
   ]
  },
  {
   "cell_type": "code",
   "execution_count": 38,
   "id": "4606e951",
   "metadata": {
    "id": "4606e951"
   },
   "outputs": [],
   "source": [
    "# Define loss function\n",
    "loss_fn = nn.CrossEntropyLoss()\n",
    "optimizer = torch.optim.SGD(conv_model.parameters(), lr=1e-3)\n",
    "\n",
    "# Make dataloader\n",
    "# train_dataloader = DataLoader(train, batch_size=256)"
   ]
  },
  {
   "cell_type": "code",
   "execution_count": 22,
   "id": "a0e6644d",
   "metadata": {
    "colab": {
     "base_uri": "https://localhost:8080/"
    },
    "id": "a0e6644d",
    "outputId": "96fae302-3378-4861-ddc3-d5d860b9040e"
   },
   "outputs": [
    {
     "name": "stdout",
     "output_type": "stream",
     "text": [
      "loss: 2.488812  [    0/60000]\n",
      "loss: 2.326731  [ 6400/60000]\n",
      "loss: 2.076484  [12800/60000]\n",
      "loss: 2.087468  [19200/60000]\n",
      "loss: 1.745054  [25600/60000]\n",
      "loss: 1.746372  [32000/60000]\n",
      "loss: 1.462981  [38400/60000]\n",
      "loss: 1.388699  [44800/60000]\n",
      "loss: 1.369434  [51200/60000]\n",
      "loss: 1.339909  [57600/60000]\n",
      "CPU times: user 11.2 s, sys: 65.5 ms, total: 11.3 s\n",
      "Wall time: 11.7 s\n"
     ]
    }
   ],
   "source": [
    "# %%time\n",
    "# train_loop(train_dataloader, conv_model, loss_fn, optimizer)"
   ]
  },
  {
   "cell_type": "code",
   "execution_count": 25,
   "id": "eef8b523",
   "metadata": {
    "id": "eef8b523"
   },
   "outputs": [],
   "source": [
    "# Make dataloader\n",
    "# train_dataloader = DataLoader(train, batch_size=512)"
   ]
  },
  {
   "cell_type": "code",
   "execution_count": 26,
   "id": "7cc1eeb1",
   "metadata": {
    "colab": {
     "base_uri": "https://localhost:8080/"
    },
    "id": "7cc1eeb1",
    "outputId": "d23a3014-a8fc-43dc-b445-46946d705ad5",
    "scrolled": true
   },
   "outputs": [
    {
     "name": "stdout",
     "output_type": "stream",
     "text": [
      "loss: 0.958613  [    0/60000]\n",
      "loss: 0.974186  [51200/60000]\n",
      "CPU times: user 9.55 s, sys: 31.2 ms, total: 9.58 s\n",
      "Wall time: 9.58 s\n"
     ]
    }
   ],
   "source": [
    "# %%time\n",
    "# train_loop(train_dataloader, conv_model, loss_fn, optimizer)"
   ]
  },
  {
   "cell_type": "code",
   "execution_count": 27,
   "id": "95305197",
   "metadata": {
    "id": "95305197"
   },
   "outputs": [],
   "source": [
    "# Make dataloader\n",
    "train_dataloader = DataLoader(train, batch_size=1024)"
   ]
  },
  {
   "cell_type": "code",
   "execution_count": 28,
   "id": "0a7a8fbf",
   "metadata": {
    "colab": {
     "base_uri": "https://localhost:8080/"
    },
    "id": "0a7a8fbf",
    "outputId": "9c10977f-1a47-46c2-f870-7ce7595588ff",
    "scrolled": true
   },
   "outputs": [
    {
     "name": "stdout",
     "output_type": "stream",
     "text": [
      "loss: 0.963157  [    0/60000]\n",
      "CPU times: user 10.2 s, sys: 38.7 ms, total: 10.2 s\n",
      "Wall time: 10.7 s\n"
     ]
    }
   ],
   "source": [
    "# %%time\n",
    "# train_loop(train_dataloader, conv_model, loss_fn, optimizer)"
   ]
  },
  {
   "cell_type": "markdown",
   "id": "474a1441",
   "metadata": {
    "id": "474a1441"
   },
   "source": [
    "## Find learning rate"
   ]
  },
  {
   "cell_type": "code",
   "execution_count": 50,
   "id": "0c9ea641",
   "metadata": {
    "id": "0c9ea641"
   },
   "outputs": [],
   "source": [
    "test_dataloader = DataLoader(test, batch_size=1024)"
   ]
  },
  {
   "cell_type": "code",
   "execution_count": 30,
   "id": "094ae918",
   "metadata": {
    "colab": {
     "base_uri": "https://localhost:8080/"
    },
    "id": "094ae918",
    "outputId": "4d3a2de6-4fb6-4ad8-fb7b-7da5f9669eb6"
   },
   "outputs": [
    {
     "name": "stdout",
     "output_type": "stream",
     "text": [
      "loss: 2.479704  [    0/60000]\n",
      "Test Error: \n",
      " Accuracy: 55.2%, Avg loss: 1.518035 \n",
      "\n"
     ]
    }
   ],
   "source": [
    "# conv_model = NeuralNetwork().to(device)\n",
    "# optimizer = torch.optim.SGD(conv_model.parameters(), lr=1e-2)\n",
    "\n",
    "# train_loop(train_dataloader, conv_model, loss_fn, optimizer)\n",
    "# correct = test_loop(test_dataloader, conv_model, loss_fn)"
   ]
  },
  {
   "cell_type": "code",
   "execution_count": 31,
   "id": "8ca232ab",
   "metadata": {
    "colab": {
     "base_uri": "https://localhost:8080/"
    },
    "id": "8ca232ab",
    "outputId": "cef5a5de-f1d2-4450-d764-f82e1ee8113b"
   },
   "outputs": [
    {
     "name": "stdout",
     "output_type": "stream",
     "text": [
      "loss: 2.426284  [    0/60000]\n",
      "Test Error: \n",
      " Accuracy: 90.4%, Avg loss: 0.360441 \n",
      "\n"
     ]
    }
   ],
   "source": [
    "conv_model = NeuralNetwork().to(device)\n",
    "optimizer = torch.optim.SGD(conv_model.parameters(), lr=1e-1)\n",
    "\n",
    "train_loop(train_dataloader, conv_model, loss_fn, optimizer)\n",
    "correct = test_loop(test_dataloader, conv_model, loss_fn)"
   ]
  },
  {
   "cell_type": "code",
   "execution_count": 32,
   "id": "57e7dad6",
   "metadata": {
    "colab": {
     "base_uri": "https://localhost:8080/"
    },
    "id": "57e7dad6",
    "outputId": "e208298e-64a2-443d-f586-b599693cb9d0"
   },
   "outputs": [
    {
     "name": "stdout",
     "output_type": "stream",
     "text": [
      "loss: 2.475238  [    0/60000]\n",
      "Test Error: \n",
      " Accuracy: 96.0%, Avg loss: 0.137014 \n",
      "\n"
     ]
    }
   ],
   "source": [
    "conv_model = NeuralNetwork().to(device)\n",
    "optimizer = torch.optim.SGD(conv_model.parameters(), lr=1e0)\n",
    "\n",
    "train_loop(train_dataloader, conv_model, loss_fn, optimizer)\n",
    "correct = test_loop(test_dataloader, conv_model, loss_fn)"
   ]
  },
  {
   "cell_type": "markdown",
   "id": "5e37518a",
   "metadata": {
    "id": "5e37518a"
   },
   "source": [
    "## Train model"
   ]
  },
  {
   "cell_type": "code",
   "execution_count": 39,
   "id": "91184f59",
   "metadata": {
    "id": "91184f59"
   },
   "outputs": [],
   "source": [
    "lr = 2e-1\n",
    "conv_model = NeuralNetwork().to(device)\n",
    "optimizer = torch.optim.SGD(conv_model.parameters(), lr)\n",
    "train_dataloader = DataLoader(train, batch_size=1024, shuffle=True)"
   ]
  },
  {
   "cell_type": "code",
   "execution_count": 40,
   "id": "4ed47541",
   "metadata": {
    "colab": {
     "base_uri": "https://localhost:8080/"
    },
    "id": "4ed47541",
    "outputId": "b18c25f4-e32f-4447-b649-6ce0bf121b36",
    "scrolled": true
   },
   "outputs": [
    {
     "name": "stdout",
     "output_type": "stream",
     "text": [
      "Epoch 1\n",
      "-------------------------------\n",
      "loss: 2.445760  [    0/60000]\n",
      "Test Error: \n",
      " Accuracy: 95.2%, Avg loss: 0.201083 \n",
      "\n",
      "Epoch 2\n",
      "-------------------------------\n",
      "loss: 0.256695  [    0/60000]\n",
      "Test Error: \n",
      " Accuracy: 97.0%, Avg loss: 0.121209 \n",
      "\n",
      "Epoch 3\n",
      "-------------------------------\n",
      "loss: 0.195291  [    0/60000]\n",
      "Test Error: \n",
      " Accuracy: 97.4%, Avg loss: 0.097604 \n",
      "\n",
      "Epoch 4\n",
      "-------------------------------\n",
      "loss: 0.164771  [    0/60000]\n",
      "Test Error: \n",
      " Accuracy: 97.8%, Avg loss: 0.083505 \n",
      "\n",
      "Epoch 5\n",
      "-------------------------------\n",
      "loss: 0.116082  [    0/60000]\n",
      "Test Error: \n",
      " Accuracy: 98.0%, Avg loss: 0.074605 \n",
      "\n",
      "Epoch 6\n",
      "-------------------------------\n",
      "loss: 0.123895  [    0/60000]\n",
      "Test Error: \n",
      " Accuracy: 98.2%, Avg loss: 0.066087 \n",
      "\n",
      "Epoch 7\n",
      "-------------------------------\n",
      "loss: 0.114076  [    0/60000]\n",
      "Test Error: \n",
      " Accuracy: 98.2%, Avg loss: 0.062900 \n",
      "\n",
      "Epoch 8\n",
      "-------------------------------\n",
      "loss: 0.128911  [    0/60000]\n",
      "Test Error: \n",
      " Accuracy: 98.4%, Avg loss: 0.059572 \n",
      "\n",
      "Epoch 9\n",
      "-------------------------------\n",
      "loss: 0.115084  [    0/60000]\n",
      "Test Error: \n",
      " Accuracy: 98.5%, Avg loss: 0.052348 \n",
      "\n",
      "Epoch 10\n",
      "-------------------------------\n",
      "loss: 0.085290  [    0/60000]\n",
      "Test Error: \n",
      " Accuracy: 98.6%, Avg loss: 0.050011 \n",
      "\n",
      "Done!\n"
     ]
    }
   ],
   "source": [
    "last_correct = 0\n",
    "for t in range(10):\n",
    "    print(f\"Epoch {t+1}\\n-------------------------------\")\n",
    "    conv_model.train()\n",
    "    train_loop(train_dataloader, conv_model, loss_fn, optimizer)\n",
    "    conv_model.eval()\n",
    "    correct = test_loop(test_dataloader, conv_model, loss_fn)\n",
    "    diff = correct - last_correct \n",
    "    if diff < 0.01:\n",
    "        if diff > 0:\n",
    "            lr /= 2\n",
    "            optimizer.param_groups[0]['lr'] = lr\n",
    "            last_correct = correct\n",
    "        else:\n",
    "            break\n",
    "            \n",
    "print(\"Done!\")"
   ]
  },
  {
   "cell_type": "markdown",
   "id": "3aedabf0",
   "metadata": {
    "id": "3aedabf0"
   },
   "source": [
    "## Check predictions"
   ]
  },
  {
   "cell_type": "code",
   "execution_count": 35,
   "id": "f2011d76",
   "metadata": {
    "colab": {
     "base_uri": "https://localhost:8080/",
     "height": 281
    },
    "id": "f2011d76",
    "outputId": "8076ce6b-5a58-40f7-be80-7e0672e9fd73",
    "scrolled": true
   },
   "outputs": [
    {
     "data": {
      "image/png": "[encoded data removed]",
      "text/plain": [
       "<Figure size 1080x288 with 3 Axes>"
      ]
     },
     "metadata": {
      "needs_background": "light"
     },
     "output_type": "display_data"
    }
   ],
   "source": [
    "# Show first few sample inputs and predictions\n",
    "preds = conv_model(example_data[:3].to(device)).argmax(1)\n",
    "fig, (ax1, ax2, ax3) = plt.subplots(1, 3, figsize=(15, 4))\n",
    "for i in range(3):\n",
    "    ax = [ax1, ax2, ax3][i]\n",
    "    ax.imshow(example_data[i][0])\n",
    "    ax.set_title(f\"{preds[i]}\")\n",
    "plt.show()"
   ]
  },
  {
   "cell_type": "markdown",
   "id": "59176260",
   "metadata": {
    "id": "59176260"
   },
   "source": [
    "## Save/load model"
   ]
  },
  {
   "cell_type": "code",
   "execution_count": 36,
   "id": "3395ecd9",
   "metadata": {
    "id": "3395ecd9"
   },
   "outputs": [],
   "source": [
    "# torch.save(conv_model, 'models/conv_mnist')"
   ]
  },
  {
   "cell_type": "code",
   "execution_count": 37,
   "id": "9739c562",
   "metadata": {
    "id": "9739c562"
   },
   "outputs": [],
   "source": [
    "# conv_model = torch.load('models/conv_mnist')"
   ]
  }
 ],
 "metadata": {
  "accelerator": "GPU",
  "colab": {
   "collapsed_sections": [],
   "name": "Copy of MNIST handwritten digits.ipynb",
   "provenance": []
  },
  "kernelspec": {
   "display_name": "Python 3 (ipykernel)",
   "language": "python",
   "name": "python3"
  },
  "language_info": {
   "codemirror_mode": {
    "name": "ipython",
    "version": 3
   },
   "file_extension": ".py",
   "mimetype": "text/x-python",
   "name": "python",
   "nbconvert_exporter": "python",
   "pygments_lexer": "ipython3",
   "version": "3.9.7"
  }
 },
 "nbformat": 4,
 "nbformat_minor": 5
}
