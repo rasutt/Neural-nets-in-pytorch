{
 "cells": [
  {
   "cell_type": "markdown",
   "id": "7b8b27bb",
   "metadata": {},
   "source": [
    "# MNIST handwritten digits"
   ]
  },
  {
   "cell_type": "markdown",
   "id": "c80beea2",
   "metadata": {},
   "source": [
    "Classifying handwritten digits using a neural network in pytorch."
   ]
  },
  {
   "cell_type": "markdown",
   "id": "cacb308a",
   "metadata": {},
   "source": [
    "Referring to the pytorch tutorials at https://pytorch.org/tutorials/beginner/basics/intro.html."
   ]
  },
  {
   "cell_type": "markdown",
   "id": "3fc18fe0",
   "metadata": {},
   "source": [
    "Got to 95% accuarcy, but haven't used pooling, normalisation, regularisation, or optimisation algorithms beyond SGD yet."
   ]
  },
  {
   "cell_type": "markdown",
   "id": "08f6ac2a",
   "metadata": {},
   "source": [
    "## Getting the data"
   ]
  },
  {
   "cell_type": "code",
   "execution_count": 1,
   "id": "8bf0623e",
   "metadata": {},
   "outputs": [],
   "source": [
    "# Packages and modules\n",
    "import torch\n",
    "import torch.nn as nn\n",
    "import matplotlib.pyplot as plt\n",
    "\n",
    "# Functions and classes\n",
    "from torchvision.transforms import ToTensor, Lambda\n",
    "from torchvision.datasets import MNIST\n",
    "from torch.utils.data import DataLoader"
   ]
  },
  {
   "cell_type": "code",
   "execution_count": 2,
   "id": "a235b9fa",
   "metadata": {},
   "outputs": [
    {
     "name": "stdout",
     "output_type": "stream",
     "text": [
      "torch.Size([3, 1, 28, 28])\n",
      "torch.Size([3, 10])\n"
     ]
    }
   ],
   "source": [
    "# Download and/or load dataset (thanks Yann), and transform to tensors, and one-hot encodings\n",
    "target_transform = Lambda(lambda y: torch.zeros(10, dtype=torch.float).scatter_(0, torch.tensor(y), value=1))\n",
    "train = MNIST(root=\"data\", transform=ToTensor(), target_transform=target_transform, download=True)\n",
    "test = MNIST(root=\"data\", transform=ToTensor(), target_transform=target_transform, download=True)\n",
    "\n",
    "# Make dataloader\n",
    "train_dataloader = DataLoader(train, batch_size=3)\n",
    "\n",
    "# Enumerate training dataloader\n",
    "examples = enumerate(train_dataloader)\n",
    "\n",
    "# Get first batch of samples and check shape\n",
    "batch_idx, (example_data, example_targets) = next(examples)\n",
    "print(example_data.shape)\n",
    "print(example_targets.shape)"
   ]
  },
  {
   "cell_type": "code",
   "execution_count": 3,
   "id": "509ad833",
   "metadata": {
    "scrolled": true
   },
   "outputs": [
    {
     "data": {
      "image/png": "[encoded data removed]",
      "text/plain": [
       "<Figure size 1080x288 with 3 Axes>"
      ]
     },
     "metadata": {
      "needs_background": "light"
     },
     "output_type": "display_data"
    }
   ],
   "source": [
    "# Show first few inputs and labels\n",
    "fig, (ax1, ax2, ax3) = plt.subplots(1, 3, figsize=(15, 4))\n",
    "for i in range(3):\n",
    "    ax = [ax1, ax2, ax3][i]\n",
    "    ax.imshow(example_data[i][0])\n",
    "    ax.set_title(f\"{example_targets[i].argmax(0)}\")\n",
    "plt.show()"
   ]
  },
  {
   "cell_type": "markdown",
   "id": "404674bf",
   "metadata": {},
   "source": [
    "## Convolutional neural network"
   ]
  },
  {
   "cell_type": "code",
   "execution_count": 4,
   "id": "b87cbfb7",
   "metadata": {},
   "outputs": [
    {
     "name": "stdout",
     "output_type": "stream",
     "text": [
      "Input: torch.Size([1, 1, 28, 28])\n",
      "Convolved: torch.Size([1, 2, 2, 2])\n",
      "Flattened: torch.Size([1, 8])\n",
      "Linear: tensor([[ 0.0795,  0.2024, -0.3934, -0.1500]], grad_fn=<AddmmBackward0>)\n",
      "ReLU: tensor([[0.0795, 0.2024, 0.0000, 0.0000]], grad_fn=<ReluBackward0>)\n",
      "Model: tensor([[ 0.1247, -0.2187, -0.0254, -0.2707]], grad_fn=<AddmmBackward0>)\n",
      "Probabilities: tensor([[0.3083, 0.2187, 0.2653, 0.2076]], grad_fn=<SoftmaxBackward0>)\n",
      "Predicted class: tensor([0])\n"
     ]
    }
   ],
   "source": [
    "# Breakdown modelling functions\n",
    "X = torch.rand(1, 1, 28, 28)\n",
    "X = example_data[:1]\n",
    "print(f\"Input: {X.shape}\")\n",
    "X_conv = nn.Conv2d(1, 2, 27)(X)\n",
    "print(f\"Convolved: {X_conv.shape}\")\n",
    "X_flat = nn.Flatten()(X_conv)\n",
    "print(f\"Flattened: {X_flat.shape}\")\n",
    "X_l = nn.Linear(8, 4)(X_flat)\n",
    "print(f\"Linear: {X_l}\")\n",
    "X_r = nn.ReLU()(X_l)\n",
    "print(f\"ReLU: {X_r}\")\n",
    "logits = nn.Linear(4, 4)(X_r)\n",
    "print(f\"Model: {logits}\")\n",
    "pred_probab = nn.Softmax(dim=1)(logits)\n",
    "print(f\"Probabilities: {pred_probab}\")\n",
    "print(f\"Predicted class: {pred_probab.argmax(1)}\")"
   ]
  },
  {
   "cell_type": "code",
   "execution_count": 5,
   "id": "8cf396b1",
   "metadata": {},
   "outputs": [],
   "source": [
    "# Create neural network model class\n",
    "class NeuralNetwork(nn.Module):\n",
    "    def __init__(self):\n",
    "        super(NeuralNetwork, self).__init__()\n",
    "        self.seq_modules = nn.Sequential(\n",
    "            nn.Conv2d(1, 5, 5),\n",
    "            nn.ReLU(),\n",
    "            nn.Flatten(),\n",
    "            nn.Linear(5*24*24, 32),\n",
    "            nn.ReLU(),\n",
    "            nn.Linear(32, 10),\n",
    "        )\n",
    "\n",
    "    def forward(self, x):\n",
    "        logits = self.seq_modules(x)\n",
    "        return logits"
   ]
  },
  {
   "cell_type": "markdown",
   "id": "ad76ed65",
   "metadata": {},
   "source": [
    "## Create model on GPU"
   ]
  },
  {
   "cell_type": "code",
   "execution_count": 6,
   "id": "54f1c8b4",
   "metadata": {},
   "outputs": [
    {
     "name": "stdout",
     "output_type": "stream",
     "text": [
      "Using cuda device\n"
     ]
    }
   ],
   "source": [
    "# Set device to GPU or CPU\n",
    "device = \"cuda\" if torch.cuda.is_available() else \"cpu\"\n",
    "print(f\"Using {device} device\")"
   ]
  },
  {
   "cell_type": "code",
   "execution_count": 7,
   "id": "9b1fa591",
   "metadata": {
    "scrolled": false
   },
   "outputs": [
    {
     "name": "stdout",
     "output_type": "stream",
     "text": [
      "NeuralNetwork(\n",
      "  (seq_modules): Sequential(\n",
      "    (0): Conv2d(1, 5, kernel_size=(5, 5), stride=(1, 1))\n",
      "    (1): ReLU()\n",
      "    (2): Flatten(start_dim=1, end_dim=-1)\n",
      "    (3): Linear(in_features=2880, out_features=32, bias=True)\n",
      "    (4): ReLU()\n",
      "    (5): Linear(in_features=32, out_features=10, bias=True)\n",
      "  )\n",
      ")\n"
     ]
    }
   ],
   "source": [
    "# Create neural network model\n",
    "conv_model = NeuralNetwork().to(device)\n",
    "print(conv_model)"
   ]
  },
  {
   "cell_type": "code",
   "execution_count": 8,
   "id": "ad4c1883",
   "metadata": {},
   "outputs": [
    {
     "data": {
      "text/plain": [
       "tensor([[ 0.2033,  0.1007,  0.1612,  0.0274,  0.1291,  0.0337,  0.0519, -0.0132,\n",
       "         -0.1023,  0.0754]], device='cuda:0', grad_fn=<AddmmBackward0>)"
      ]
     },
     "execution_count": 8,
     "metadata": {},
     "output_type": "execute_result"
    }
   ],
   "source": [
    "# Use model to get predictions\n",
    "conv_model(X.to(device))"
   ]
  },
  {
   "cell_type": "code",
   "execution_count": 9,
   "id": "79570e7b",
   "metadata": {},
   "outputs": [
    {
     "name": "stdout",
     "output_type": "stream",
     "text": [
      "Layer: seq_modules.0.weight\n",
      "Size: torch.Size([5, 1, 5, 5])\n",
      "Values : tensor([[[[-0.1281,  0.1973,  0.0121, -0.0615,  0.0411],\n",
      "          [-0.0264,  0.1325, -0.0153,  0.0262, -0.1605],\n",
      "          [ 0.1991,  0.0947, -0.1223, -0.0998, -0.1491],\n",
      "          [ 0.1343, -0.0689,  0.0559, -0.1853,  0.1530],\n",
      "          [ 0.1684, -0.0269,  0.1262,  0.0477,  0.0551]]]], device='cuda:0',\n",
      "       grad_fn=<SliceBackward0>) \n",
      "\n"
     ]
    }
   ],
   "source": [
    "name, param = next(conv_model.named_parameters())\n",
    "print(f\"Layer: {name}\")\n",
    "print(f\"Size: {param.size()}\")\n",
    "print(f\"Values : {param[:1]} \\n\")"
   ]
  },
  {
   "cell_type": "markdown",
   "id": "21f33cd5",
   "metadata": {},
   "source": [
    "## Find batch size"
   ]
  },
  {
   "cell_type": "code",
   "execution_count": 10,
   "id": "8777c4e0",
   "metadata": {},
   "outputs": [],
   "source": [
    "# Training and testing functions\n",
    "def train_loop(dataloader, model, loss_fn, optimizer):\n",
    "    size = len(dataloader.dataset)\n",
    "    for batch, (X, y) in enumerate(dataloader):\n",
    "        # Compute prediction and loss\n",
    "        pred = model(X.to(device))\n",
    "        loss = loss_fn(pred, y.to(device))\n",
    "\n",
    "        # Backpropagation\n",
    "        optimizer.zero_grad()\n",
    "        loss.backward()\n",
    "        optimizer.step()\n",
    "\n",
    "        if batch % 100 == 0:\n",
    "            loss, current = loss.item(), batch * len(X)\n",
    "            print(f\"loss: {loss:>7f}  [{current:>5d}/{size:>5d}]\")\n",
    "\n",
    "def test_loop(dataloader, model, loss_fn):\n",
    "    size = len(dataloader.dataset)\n",
    "    num_batches = len(dataloader)\n",
    "    test_loss, correct = 0, 0\n",
    "\n",
    "    with torch.no_grad():\n",
    "        for X, y in dataloader:\n",
    "            y = y.to(device)\n",
    "            pred = model(X.to(device))\n",
    "            test_loss += loss_fn(pred, y).item()\n",
    "            correct += (pred.argmax(1) == y.argmax(1)).type(torch.float).sum().item()\n",
    "\n",
    "    test_loss /= num_batches\n",
    "    correct /= size\n",
    "    print(f\"Test Error: \\n Accuracy: {(100*correct):>0.1f}%, Avg loss: {test_loss:>8f} \\n\")\n",
    "    \n",
    "    return correct"
   ]
  },
  {
   "cell_type": "code",
   "execution_count": 25,
   "id": "4606e951",
   "metadata": {},
   "outputs": [],
   "source": [
    "# Define loss function\n",
    "loss_fn = nn.CrossEntropyLoss()\n",
    "\n",
    "# Make dataloader\n",
    "train_dataloader = DataLoader(train, batch_size=64)"
   ]
  },
  {
   "cell_type": "code",
   "execution_count": 26,
   "id": "a0e6644d",
   "metadata": {},
   "outputs": [
    {
     "name": "stdout",
     "output_type": "stream",
     "text": [
      "loss: 0.231261  [    0/60000]\n",
      "loss: 0.208701  [ 6400/60000]\n",
      "loss: 0.272013  [12800/60000]\n",
      "loss: 0.271806  [19200/60000]\n",
      "loss: 0.124443  [25600/60000]\n",
      "loss: 0.272358  [32000/60000]\n",
      "loss: 0.137172  [38400/60000]\n",
      "loss: 0.175525  [44800/60000]\n",
      "loss: 0.203162  [51200/60000]\n",
      "loss: 0.193900  [57600/60000]\n",
      "Wall time: 11.3 s\n"
     ]
    }
   ],
   "source": [
    "%%time\n",
    "train_loop(train_dataloader, conv_model, loss_fn, optimizer)"
   ]
  },
  {
   "cell_type": "code",
   "execution_count": 27,
   "id": "e8324a59",
   "metadata": {},
   "outputs": [],
   "source": [
    "# Make dataloader\n",
    "train_dataloader = DataLoader(train, batch_size=256)"
   ]
  },
  {
   "cell_type": "code",
   "execution_count": 28,
   "id": "da46fa7b",
   "metadata": {
    "scrolled": false
   },
   "outputs": [
    {
     "name": "stdout",
     "output_type": "stream",
     "text": [
      "loss: 0.244115  [    0/60000]\n",
      "loss: 0.128569  [25600/60000]\n",
      "loss: 0.121730  [51200/60000]\n",
      "Wall time: 9.17 s\n"
     ]
    }
   ],
   "source": [
    "%%time\n",
    "train_loop(train_dataloader, conv_model, loss_fn, optimizer)"
   ]
  },
  {
   "cell_type": "code",
   "execution_count": 29,
   "id": "eef8b523",
   "metadata": {},
   "outputs": [],
   "source": [
    "# Make dataloader\n",
    "train_dataloader = DataLoader(train, batch_size=512)"
   ]
  },
  {
   "cell_type": "code",
   "execution_count": 30,
   "id": "7cc1eeb1",
   "metadata": {
    "scrolled": true
   },
   "outputs": [
    {
     "name": "stdout",
     "output_type": "stream",
     "text": [
      "loss: 0.135540  [    0/60000]\n",
      "loss: 0.094147  [51200/60000]\n",
      "Wall time: 8.62 s\n"
     ]
    }
   ],
   "source": [
    "%%time\n",
    "train_loop(train_dataloader, conv_model, loss_fn, optimizer)"
   ]
  },
  {
   "cell_type": "code",
   "execution_count": 31,
   "id": "95305197",
   "metadata": {},
   "outputs": [],
   "source": [
    "# Make dataloader\n",
    "train_dataloader = DataLoader(train, batch_size=1024)"
   ]
  },
  {
   "cell_type": "code",
   "execution_count": 32,
   "id": "0a7a8fbf",
   "metadata": {
    "scrolled": true
   },
   "outputs": [
    {
     "name": "stdout",
     "output_type": "stream",
     "text": [
      "loss: 0.115561  [    0/60000]\n",
      "Wall time: 8.48 s\n"
     ]
    }
   ],
   "source": [
    "%%time\n",
    "train_loop(train_dataloader, conv_model, loss_fn, optimizer)"
   ]
  },
  {
   "cell_type": "markdown",
   "id": "474a1441",
   "metadata": {},
   "source": [
    "## Find learning rate"
   ]
  },
  {
   "cell_type": "code",
   "execution_count": 33,
   "id": "0c9ea641",
   "metadata": {},
   "outputs": [
    {
     "name": "stdout",
     "output_type": "stream",
     "text": [
      "loss: 2.307622  [    0/60000]\n",
      "Test Error: \n",
      " Accuracy: 10.7%, Avg loss: 2.304768 \n",
      "\n"
     ]
    }
   ],
   "source": [
    "test_dataloader = DataLoader(test, batch_size=1024)\n",
    "\n",
    "conv_model = NeuralNetwork().to(device)\n",
    "optimizer = torch.optim.SGD(conv_model.parameters(), lr=1e-3)\n",
    "\n",
    "train_loop(train_dataloader, conv_model, loss_fn, optimizer)\n",
    "correct = test_loop(test_dataloader, conv_model, loss_fn)"
   ]
  },
  {
   "cell_type": "code",
   "execution_count": 34,
   "id": "094ae918",
   "metadata": {},
   "outputs": [
    {
     "name": "stdout",
     "output_type": "stream",
     "text": [
      "loss: 2.312024  [    0/60000]\n",
      "Test Error: \n",
      " Accuracy: 16.0%, Avg loss: 2.255195 \n",
      "\n"
     ]
    }
   ],
   "source": [
    "conv_model = NeuralNetwork().to(device)\n",
    "optimizer = torch.optim.SGD(conv_model.parameters(), lr=1e-2)\n",
    "\n",
    "train_loop(train_dataloader, conv_model, loss_fn, optimizer)\n",
    "correct = test_loop(test_dataloader, conv_model, loss_fn)"
   ]
  },
  {
   "cell_type": "code",
   "execution_count": 35,
   "id": "8ca232ab",
   "metadata": {},
   "outputs": [
    {
     "name": "stdout",
     "output_type": "stream",
     "text": [
      "loss: 2.313684  [    0/60000]\n",
      "Test Error: \n",
      " Accuracy: 83.0%, Avg loss: 0.524720 \n",
      "\n"
     ]
    }
   ],
   "source": [
    "conv_model = NeuralNetwork().to(device)\n",
    "optimizer = torch.optim.SGD(conv_model.parameters(), lr=1e-1)\n",
    "\n",
    "train_loop(train_dataloader, conv_model, loss_fn, optimizer)\n",
    "correct = test_loop(test_dataloader, conv_model, loss_fn)"
   ]
  },
  {
   "cell_type": "code",
   "execution_count": 36,
   "id": "57e7dad6",
   "metadata": {},
   "outputs": [
    {
     "name": "stdout",
     "output_type": "stream",
     "text": [
      "loss: 2.296094  [    0/60000]\n",
      "Test Error: \n",
      " Accuracy: 10.4%, Avg loss: 2.301390 \n",
      "\n"
     ]
    }
   ],
   "source": [
    "conv_model = NeuralNetwork().to(device)\n",
    "optimizer = torch.optim.SGD(conv_model.parameters(), lr=1e0)\n",
    "\n",
    "train_loop(train_dataloader, conv_model, loss_fn, optimizer)\n",
    "correct = test_loop(test_dataloader, conv_model, loss_fn)"
   ]
  },
  {
   "cell_type": "markdown",
   "id": "5e37518a",
   "metadata": {},
   "source": [
    "## Train model"
   ]
  },
  {
   "cell_type": "code",
   "execution_count": 37,
   "id": "91184f59",
   "metadata": {},
   "outputs": [],
   "source": [
    "lr = 1e-1\n",
    "conv_model = NeuralNetwork().to(device)\n",
    "optimizer = torch.optim.SGD(conv_model.parameters(), lr)"
   ]
  },
  {
   "cell_type": "code",
   "execution_count": 38,
   "id": "4ed47541",
   "metadata": {
    "scrolled": true
   },
   "outputs": [
    {
     "name": "stdout",
     "output_type": "stream",
     "text": [
      "Epoch 1\n",
      "-------------------------------\n",
      "loss: 2.314094  [    0/60000]\n",
      "Test Error: \n",
      " Accuracy: 87.4%, Avg loss: 0.424140 \n",
      "\n",
      "Epoch 2\n",
      "-------------------------------\n",
      "loss: 0.464001  [    0/60000]\n",
      "Test Error: \n",
      " Accuracy: 90.0%, Avg loss: 0.327802 \n",
      "\n",
      "Epoch 3\n",
      "-------------------------------\n",
      "loss: 0.350327  [    0/60000]\n",
      "Test Error: \n",
      " Accuracy: 91.6%, Avg loss: 0.276869 \n",
      "\n",
      "Epoch 4\n",
      "-------------------------------\n",
      "loss: 0.292232  [    0/60000]\n",
      "Test Error: \n",
      " Accuracy: 92.7%, Avg loss: 0.241037 \n",
      "\n",
      "Epoch 5\n",
      "-------------------------------\n",
      "loss: 0.252839  [    0/60000]\n",
      "Test Error: \n",
      " Accuracy: 93.5%, Avg loss: 0.216323 \n",
      "\n",
      "Epoch 6\n",
      "-------------------------------\n",
      "loss: 0.223936  [    0/60000]\n",
      "Test Error: \n",
      " Accuracy: 94.1%, Avg loss: 0.198004 \n",
      "\n",
      "Epoch 7\n",
      "-------------------------------\n",
      "loss: 0.203515  [    0/60000]\n",
      "Test Error: \n",
      " Accuracy: 94.5%, Avg loss: 0.183297 \n",
      "\n",
      "Epoch 8\n",
      "-------------------------------\n",
      "loss: 0.186441  [    0/60000]\n",
      "Test Error: \n",
      " Accuracy: 94.9%, Avg loss: 0.171511 \n",
      "\n",
      "Epoch 9\n",
      "-------------------------------\n",
      "loss: 0.173441  [    0/60000]\n",
      "Test Error: \n",
      " Accuracy: 95.2%, Avg loss: 0.160991 \n",
      "\n",
      "Epoch 10\n",
      "-------------------------------\n",
      "loss: 0.162305  [    0/60000]\n",
      "Test Error: \n",
      " Accuracy: 95.5%, Avg loss: 0.152674 \n",
      "\n",
      "Done!\n"
     ]
    }
   ],
   "source": [
    "last_correct = 0\n",
    "for t in range(10):\n",
    "    print(f\"Epoch {t+1}\\n-------------------------------\")\n",
    "    train_loop(train_dataloader, conv_model, loss_fn, optimizer)\n",
    "    correct = test_loop(test_dataloader, conv_model, loss_fn)\n",
    "    diff = correct - last_correct \n",
    "    if diff < 0.01:\n",
    "        if diff > 0:\n",
    "            lr /= 2\n",
    "            optimizer.param_groups[0]['lr'] = lr\n",
    "            last_correct = correct\n",
    "        else:\n",
    "            break\n",
    "            \n",
    "print(\"Done!\")"
   ]
  },
  {
   "cell_type": "markdown",
   "id": "3aedabf0",
   "metadata": {},
   "source": [
    "## Check predictions"
   ]
  },
  {
   "cell_type": "code",
   "execution_count": 39,
   "id": "f2011d76",
   "metadata": {
    "scrolled": true
   },
   "outputs": [
    {
     "data": {
      "image/png": "[encoded data removed]",
      "text/plain": [
       "<Figure size 1080x288 with 3 Axes>"
      ]
     },
     "metadata": {
      "needs_background": "light"
     },
     "output_type": "display_data"
    }
   ],
   "source": [
    "# Show first few sample inputs and predictions\n",
    "fig, (ax1, ax2, ax3) = plt.subplots(1, 3, figsize=(15, 4))\n",
    "for i in range(3):\n",
    "    ax = [ax1, ax2, ax3][i]\n",
    "    ax.imshow(example_data[i][0])\n",
    "    ax.set_title(f\"{conv_model(example_data[i:(i+1)].to(device)).argmax(1)}\")\n",
    "plt.show()"
   ]
  },
  {
   "cell_type": "markdown",
   "id": "59176260",
   "metadata": {},
   "source": [
    "## Save/load model"
   ]
  },
  {
   "cell_type": "code",
   "execution_count": 42,
   "id": "3395ecd9",
   "metadata": {},
   "outputs": [],
   "source": [
    "# torch.save(conv_model, 'models/conv_mnist')"
   ]
  },
  {
   "cell_type": "code",
   "execution_count": 41,
   "id": "9739c562",
   "metadata": {},
   "outputs": [],
   "source": [
    "# conv_model = torch.load('models/conv_mnist')"
   ]
  }
 ],
 "metadata": {
  "kernelspec": {
   "display_name": "Python 3 (ipykernel)",
   "language": "python",
   "name": "python3"
  },
  "language_info": {
   "codemirror_mode": {
    "name": "ipython",
    "version": 3
   },
   "file_extension": ".py",
   "mimetype": "text/x-python",
   "name": "python",
   "nbconvert_exporter": "python",
   "pygments_lexer": "ipython3",
   "version": "3.9.7"
  }
 },
 "nbformat": 4,
 "nbformat_minor": 5
}
