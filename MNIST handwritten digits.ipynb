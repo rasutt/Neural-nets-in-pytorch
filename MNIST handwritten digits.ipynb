{
 "cells": [
  {
   "cell_type": "markdown",
   "id": "7b8b27bb",
   "metadata": {},
   "source": [
    "# MNIST handwritten digits"
   ]
  },
  {
   "cell_type": "markdown",
   "id": "c80beea2",
   "metadata": {},
   "source": [
    "Trying to classify handwritten digits using a neural network in pytorch."
   ]
  },
  {
   "cell_type": "markdown",
   "id": "cacb308a",
   "metadata": {},
   "source": [
    "Following the pytorch tutorials at https://pytorch.org/tutorials/beginner/basics/intro.html."
   ]
  },
  {
   "cell_type": "markdown",
   "id": "08f6ac2a",
   "metadata": {},
   "source": [
    "## Getting the data"
   ]
  },
  {
   "cell_type": "code",
   "execution_count": 1,
   "id": "8bf0623e",
   "metadata": {},
   "outputs": [],
   "source": [
    "# Packages and modules\n",
    "import torch\n",
    "import torch.nn as nn\n",
    "import matplotlib.pyplot as plt\n",
    "import torchvision\n",
    "\n",
    "# Functions and classes\n",
    "from torchvision.transforms import ToTensor, Lambda\n",
    "from torchvision.datasets import MNIST\n",
    "from torch.utils.data import DataLoader"
   ]
  },
  {
   "cell_type": "code",
   "execution_count": 2,
   "id": "782941d1",
   "metadata": {},
   "outputs": [],
   "source": [
    "# Download and/or load dataset (thanks Yann), and transform to tensors, and one-hot encodings\n",
    "target_transform = Lambda(lambda y: torch.zeros(10, dtype=torch.float).scatter_(0, torch.tensor(y), value=1))\n",
    "train = MNIST(root=\"data\", transform=ToTensor(), target_transform=target_transform, download=True)\n",
    "test = MNIST(root=\"data\", transform=ToTensor(), target_transform=target_transform, download=True)"
   ]
  },
  {
   "cell_type": "code",
   "execution_count": 63,
   "id": "5808023d",
   "metadata": {},
   "outputs": [],
   "source": [
    "# Make dataloader\n",
    "train_dataloader = DataLoader(train, batch_size=64)\n",
    "test_dataloader = DataLoader(test, batch_size=64)"
   ]
  },
  {
   "cell_type": "code",
   "execution_count": 96,
   "id": "4420606c",
   "metadata": {},
   "outputs": [],
   "source": [
    "# Load iterable\n",
    "examples = enumerate(train_dataloader)"
   ]
  },
  {
   "cell_type": "code",
   "execution_count": 97,
   "id": "a235b9fa",
   "metadata": {},
   "outputs": [
    {
     "data": {
      "text/plain": [
       "torch.Size([64, 1, 28, 28])"
      ]
     },
     "execution_count": 97,
     "metadata": {},
     "output_type": "execute_result"
    }
   ],
   "source": [
    "# Get first sample and check shape\n",
    "batch_idx, (example_data, example_targets) = next(examples)\n",
    "example_data.shape"
   ]
  },
  {
   "cell_type": "code",
   "execution_count": 50,
   "id": "0294c1bf",
   "metadata": {},
   "outputs": [
    {
     "data": {
      "text/plain": [
       "torch.Size([64, 10])"
      ]
     },
     "execution_count": 50,
     "metadata": {},
     "output_type": "execute_result"
    }
   ],
   "source": [
    "example_targets.shape"
   ]
  },
  {
   "cell_type": "code",
   "execution_count": 51,
   "id": "509ad833",
   "metadata": {
    "scrolled": true
   },
   "outputs": [
    {
     "data": {
      "image/png": "[encoded data removed]",
      "text/plain": [
       "<Figure size 1080x288 with 3 Axes>"
      ]
     },
     "metadata": {
      "needs_background": "light"
     },
     "output_type": "display_data"
    }
   ],
   "source": [
    "# Show first few sample inputs and labels\n",
    "fig, (ax1, ax2, ax3) = plt.subplots(1, 3, figsize=(15, 4))\n",
    "for i in range(3):\n",
    "    ax = [ax1, ax2, ax3][i]\n",
    "    ax.imshow(example_data[0][0])\n",
    "    ax.set_title(f\"{example_targets[0].argmax(0)}\")\n",
    "    batch_idx, (example_data, example_targets) = next(examples)\n",
    "plt.show()"
   ]
  },
  {
   "cell_type": "markdown",
   "id": "404674bf",
   "metadata": {},
   "source": [
    "## Build neural network model"
   ]
  },
  {
   "cell_type": "code",
   "execution_count": 52,
   "id": "b87cbfb7",
   "metadata": {},
   "outputs": [
    {
     "name": "stdout",
     "output_type": "stream",
     "text": [
      "Input: torch.Size([1, 28, 28])\n",
      "Flattened: torch.Size([1, 784])\n",
      "Linear: tensor([[-0.2669, -0.3757, -0.1607, -0.2081]], grad_fn=<AddmmBackward0>)\n",
      "ReLU: tensor([[0., 0., 0., 0.]], grad_fn=<ReluBackward0>)\n",
      "Model: tensor([[-0.2775,  0.1596,  0.2793,  0.2660]], grad_fn=<AddmmBackward0>)\n",
      "Probabilities: tensor([[0.1662, 0.2574, 0.2901, 0.2863]], grad_fn=<SoftmaxBackward0>)\n",
      "Predicted class: tensor([2])\n"
     ]
    }
   ],
   "source": [
    "# Breakdown modelling functions\n",
    "X = torch.rand(1, 28, 28)\n",
    "print(f\"Input: {X.shape}\")\n",
    "\n",
    "X_flat = nn.Flatten()(X)\n",
    "print(f\"Flattened: {X_flat.shape}\")\n",
    "\n",
    "X_l = nn.Linear(28*28, 4)(X_flat)\n",
    "print(f\"Linear: {X_l}\")\n",
    "\n",
    "X_r = nn.ReLU()(X_l)\n",
    "print(f\"ReLU: {X_r}\")\n",
    "\n",
    "logits = nn.Linear(4, 4)(X_r)\n",
    "print(f\"Model: {logits}\")\n",
    "\n",
    "pred_probab = nn.Softmax(dim=1)(logits)\n",
    "print(f\"Probabilities: {pred_probab}\")\n",
    "\n",
    "print(f\"Predicted class: {pred_probab.argmax(1)}\")"
   ]
  },
  {
   "cell_type": "code",
   "execution_count": 53,
   "id": "7a8008a3",
   "metadata": {},
   "outputs": [
    {
     "data": {
      "text/plain": [
       "tensor([[ 0.0204, -0.0068, -0.0713,  0.0412,  0.0300,  0.0322,  0.0252,  0.1271,\n",
       "          0.0448, -0.0678]], grad_fn=<AddmmBackward0>)"
      ]
     },
     "execution_count": 53,
     "metadata": {},
     "output_type": "execute_result"
    }
   ],
   "source": [
    "# Create a neural network\n",
    "seq_modules = nn.Sequential(\n",
    "    nn.Linear(28*28, 512),\n",
    "    nn.ReLU(),\n",
    "    nn.Linear(512, 512),\n",
    "    nn.ReLU(),\n",
    "    nn.Linear(512, 10),\n",
    ")\n",
    "seq_modules(X_flat)"
   ]
  },
  {
   "cell_type": "code",
   "execution_count": 54,
   "id": "8cf396b1",
   "metadata": {},
   "outputs": [],
   "source": [
    "# Create neural network model class\n",
    "class NeuralNetwork(nn.Module):\n",
    "    def __init__(self, seq_modules):\n",
    "        super(NeuralNetwork, self).__init__()\n",
    "        self.flatten = nn.Flatten()\n",
    "        self.linear_relu_stack = seq_modules\n",
    "\n",
    "    def forward(self, x):\n",
    "        x = self.flatten(x)\n",
    "        logits = self.linear_relu_stack(x)\n",
    "        return logits"
   ]
  },
  {
   "cell_type": "code",
   "execution_count": 55,
   "id": "d558ec3d",
   "metadata": {
    "scrolled": true
   },
   "outputs": [
    {
     "name": "stdout",
     "output_type": "stream",
     "text": [
      "NeuralNetwork(\n",
      "  (flatten): Flatten(start_dim=1, end_dim=-1)\n",
      "  (linear_relu_stack): Sequential(\n",
      "    (0): Linear(in_features=784, out_features=512, bias=True)\n",
      "    (1): ReLU()\n",
      "    (2): Linear(in_features=512, out_features=512, bias=True)\n",
      "    (3): ReLU()\n",
      "    (4): Linear(in_features=512, out_features=10, bias=True)\n",
      "  )\n",
      ")\n"
     ]
    }
   ],
   "source": [
    "# Create neural network model\n",
    "model = NeuralNetwork(seq_modules)\n",
    "print(model)"
   ]
  },
  {
   "cell_type": "code",
   "execution_count": 56,
   "id": "a7525e64",
   "metadata": {},
   "outputs": [
    {
     "name": "stdout",
     "output_type": "stream",
     "text": [
      "Layer: linear_relu_stack.0.weight\n",
      "Size: torch.Size([512, 784])\n",
      "Values : tensor([[ 0.0078,  0.0243, -0.0324,  ...,  0.0215, -0.0233,  0.0139],\n",
      "        [-0.0357, -0.0288,  0.0010,  ...,  0.0122, -0.0199, -0.0126]],\n",
      "       grad_fn=<SliceBackward0>) \n",
      "\n"
     ]
    }
   ],
   "source": [
    "name, param = next(model.named_parameters())\n",
    "print(f\"Layer: {name}\")\n",
    "print(f\"Size: {param.size()}\")\n",
    "print(f\"Values : {param[:2]} \\n\")"
   ]
  },
  {
   "cell_type": "code",
   "execution_count": 57,
   "id": "4a50e7f0",
   "metadata": {},
   "outputs": [
    {
     "data": {
      "text/plain": [
       "tensor([[ 0.0204, -0.0068, -0.0713,  0.0412,  0.0300,  0.0322,  0.0252,  0.1271,\n",
       "          0.0448, -0.0678]], grad_fn=<AddmmBackward0>)"
      ]
     },
     "execution_count": 57,
     "metadata": {},
     "output_type": "execute_result"
    }
   ],
   "source": [
    "# Use model to get predictions\n",
    "model(X)"
   ]
  },
  {
   "cell_type": "code",
   "execution_count": 65,
   "id": "54f1c8b4",
   "metadata": {},
   "outputs": [
    {
     "name": "stdout",
     "output_type": "stream",
     "text": [
      "Using cuda device\n"
     ]
    }
   ],
   "source": [
    "# Set device to GPU or CPU\n",
    "device = \"cuda\" if torch.cuda.is_available() else \"cpu\"\n",
    "print(f\"Using {device} device\")"
   ]
  },
  {
   "cell_type": "code",
   "execution_count": 66,
   "id": "87f62d78",
   "metadata": {},
   "outputs": [
    {
     "name": "stdout",
     "output_type": "stream",
     "text": [
      "NeuralNetwork(\n",
      "  (flatten): Flatten(start_dim=1, end_dim=-1)\n",
      "  (linear_relu_stack): Sequential(\n",
      "    (0): Linear(in_features=784, out_features=512, bias=True)\n",
      "    (1): ReLU()\n",
      "    (2): Linear(in_features=512, out_features=512, bias=True)\n",
      "    (3): ReLU()\n",
      "    (4): Linear(in_features=512, out_features=10, bias=True)\n",
      "  )\n",
      ")\n"
     ]
    }
   ],
   "source": [
    "# Create neural network model\n",
    "model = model.to(device)\n",
    "print(model)"
   ]
  },
  {
   "cell_type": "code",
   "execution_count": 67,
   "id": "12694fac",
   "metadata": {},
   "outputs": [
    {
     "name": "stdout",
     "output_type": "stream",
     "text": [
      "Model: tensor([[ 0.1272, -0.0779,  0.0465,  0.0137,  0.0006,  0.0166,  0.0495,  0.0996,\n",
      "          0.0602, -0.0617]], device='cuda:0', grad_fn=<AddmmBackward0>)\n"
     ]
    }
   ],
   "source": [
    "# Use model to get predictions on GPU\n",
    "X = torch.rand(1, 28, 28, device=device)\n",
    "logits = model(X)\n",
    "print(f\"Model: {logits}\")"
   ]
  },
  {
   "cell_type": "code",
   "execution_count": null,
   "id": "369661e5",
   "metadata": {},
   "outputs": [],
   "source": []
  },
  {
   "cell_type": "code",
   "execution_count": 81,
   "id": "30174ab3",
   "metadata": {},
   "outputs": [],
   "source": [
    "def train_loop(dataloader, model, loss_fn, optimizer):\n",
    "    size = len(dataloader.dataset)\n",
    "    for batch, (X, y) in enumerate(dataloader):\n",
    "        # Compute prediction and loss\n",
    "        pred = model(X.to(device))\n",
    "        loss = loss_fn(pred, y.to(device))\n",
    "\n",
    "        # Backpropagation\n",
    "        optimizer.zero_grad()\n",
    "        loss.backward()\n",
    "        optimizer.step()\n",
    "\n",
    "        if batch % 100 == 0:\n",
    "            loss, current = loss.item(), batch * len(X)\n",
    "            print(f\"loss: {loss:>7f}  [{current:>5d}/{size:>5d}]\")\n",
    "\n",
    "\n",
    "def test_loop(dataloader, model, loss_fn):\n",
    "    size = len(dataloader.dataset)\n",
    "    num_batches = len(dataloader)\n",
    "    test_loss, correct = 0, 0\n",
    "\n",
    "    with torch.no_grad():\n",
    "        for X, y in dataloader:\n",
    "            y = y.to(device)\n",
    "            pred = model(X.to(device))\n",
    "            test_loss += loss_fn(pred, y).item()\n",
    "            correct += (pred.argmax(1) == y.argmax(1)).type(torch.float).sum().item()\n",
    "\n",
    "    test_loss /= num_batches\n",
    "    correct /= size\n",
    "    print(f\"Test Error: \\n Accuracy: {(100*correct):>0.1f}%, Avg loss: {test_loss:>8f} \\n\")"
   ]
  },
  {
   "cell_type": "code",
   "execution_count": 82,
   "id": "1d87e7b0",
   "metadata": {},
   "outputs": [],
   "source": [
    "learning_rate = 1e-3\n",
    "batch_size = 64\n",
    "epochs = 1\n",
    "\n",
    "loss_fn = nn.CrossEntropyLoss()\n",
    "\n",
    "optimizer = torch.optim.SGD(model.parameters(), lr=learning_rate)"
   ]
  },
  {
   "cell_type": "code",
   "execution_count": 106,
   "id": "0b184f8c",
   "metadata": {
    "scrolled": true
   },
   "outputs": [
    {
     "name": "stdout",
     "output_type": "stream",
     "text": [
      "Epoch 1\n",
      "-------------------------------\n",
      "loss: 0.583600  [    0/60000]\n",
      "loss: 0.462439  [ 6400/60000]\n",
      "loss: 0.505150  [12800/60000]\n",
      "loss: 0.534429  [19200/60000]\n",
      "loss: 0.466478  [25600/60000]\n",
      "loss: 0.496948  [32000/60000]\n",
      "loss: 0.399427  [38400/60000]\n",
      "loss: 0.584895  [44800/60000]\n",
      "loss: 0.542944  [51200/60000]\n",
      "loss: 0.559387  [57600/60000]\n",
      "Test Error: \n",
      " Accuracy: 86.9%, Avg loss: 0.495877 \n",
      "\n",
      "Done!\n"
     ]
    }
   ],
   "source": [
    "for t in range(epochs):\n",
    "    print(f\"Epoch {t+1}\\n-------------------------------\")\n",
    "    train_loop(train_dataloader, model, loss_fn, optimizer)\n",
    "    test_loop(test_dataloader, model, loss_fn)\n",
    "print(\"Done!\")"
   ]
  },
  {
   "cell_type": "code",
   "execution_count": 105,
   "id": "2e7e9a7a",
   "metadata": {},
   "outputs": [
    {
     "name": "stdout",
     "output_type": "stream",
     "text": [
      "Epoch 1\n",
      "-------------------------------\n",
      "loss: 0.622746  [    0/60000]\n",
      "loss: 0.499021  [ 6400/60000]\n",
      "loss: 0.544829  [12800/60000]\n",
      "loss: 0.561091  [19200/60000]\n",
      "loss: 0.502738  [25600/60000]\n",
      "loss: 0.521273  [32000/60000]\n",
      "loss: 0.433582  [38400/60000]\n",
      "loss: 0.613755  [44800/60000]\n",
      "loss: 0.574180  [51200/60000]\n",
      "loss: 0.580128  [57600/60000]\n",
      "Test Error: \n",
      " Accuracy: 86.4%, Avg loss: 0.524089 \n",
      "\n",
      "Done!\n"
     ]
    }
   ],
   "source": [
    "for t in range(epochs):\n",
    "    print(f\"Epoch {t+1}\\n-------------------------------\")\n",
    "    train_loop(train_dataloader, model, loss_fn, optimizer)\n",
    "    test_loop(test_dataloader, model, loss_fn)\n",
    "print(\"Done!\")"
   ]
  },
  {
   "cell_type": "code",
   "execution_count": 103,
   "id": "76b6a3b4",
   "metadata": {},
   "outputs": [
    {
     "data": {
      "image/png": "[encoded data removed]",
      "text/plain": [
       "<Figure size 1080x288 with 3 Axes>"
      ]
     },
     "metadata": {
      "needs_background": "light"
     },
     "output_type": "display_data"
    }
   ],
   "source": [
    "# Show first few sample inputs and labels\n",
    "fig, (ax1, ax2, ax3) = plt.subplots(1, 3, figsize=(15, 4))\n",
    "for i in range(3):\n",
    "    ax = [ax1, ax2, ax3][i]\n",
    "    ax.imshow(example_data[0][0])\n",
    "    ax.set_title(f\"{model(example_data[0].to(device)).argmax(1)}\")\n",
    "    batch_idx, (example_data, example_targets) = next(examples)\n",
    "plt.show()"
   ]
  },
  {
   "cell_type": "code",
   "execution_count": 99,
   "id": "2909a9ce",
   "metadata": {},
   "outputs": [
    {
     "data": {
      "text/plain": [
       "tensor([[ 7.1682, -7.1206,  1.4448, -0.7304, -0.8856,  3.3776,  3.7621, -3.5873,\n",
       "          0.3273, -1.9473]], device='cuda:0', grad_fn=<AddmmBackward0>)"
      ]
     },
     "execution_count": 99,
     "metadata": {},
     "output_type": "execute_result"
    }
   ],
   "source": [
    "model(example_data[0].to(device))"
   ]
  }
 ],
 "metadata": {
  "kernelspec": {
   "display_name": "Python 3 (ipykernel)",
   "language": "python",
   "name": "python3"
  },
  "language_info": {
   "codemirror_mode": {
    "name": "ipython",
    "version": 3
   },
   "file_extension": ".py",
   "mimetype": "text/x-python",
   "name": "python",
   "nbconvert_exporter": "python",
   "pygments_lexer": "ipython3",
   "version": "3.9.7"
  }
 },
 "nbformat": 4,
 "nbformat_minor": 5
}
