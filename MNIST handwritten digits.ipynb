{
 "cells": [
  {
   "cell_type": "markdown",
   "id": "7b8b27bb",
   "metadata": {},
   "source": [
    "# MNIST handwritten digits"
   ]
  },
  {
   "cell_type": "markdown",
   "id": "c80beea2",
   "metadata": {},
   "source": [
    "Classifying handwritten digits using a neural network in pytorch."
   ]
  },
  {
   "cell_type": "markdown",
   "id": "cacb308a",
   "metadata": {},
   "source": [
    "Following the pytorch tutorials at https://pytorch.org/tutorials/beginner/basics/intro.html."
   ]
  },
  {
   "cell_type": "markdown",
   "id": "08f6ac2a",
   "metadata": {},
   "source": [
    "## Getting the data"
   ]
  },
  {
   "cell_type": "code",
   "execution_count": 1,
   "id": "8bf0623e",
   "metadata": {},
   "outputs": [],
   "source": [
    "# Packages and modules\n",
    "import torch\n",
    "import torch.nn as nn\n",
    "import matplotlib.pyplot as plt\n",
    "\n",
    "# Functions and classes\n",
    "from torchvision.transforms import ToTensor, Lambda\n",
    "from torchvision.datasets import MNIST\n",
    "from torch.utils.data import DataLoader"
   ]
  },
  {
   "cell_type": "code",
   "execution_count": 2,
   "id": "a235b9fa",
   "metadata": {},
   "outputs": [
    {
     "name": "stdout",
     "output_type": "stream",
     "text": [
      "torch.Size([64, 1, 28, 28])\n",
      "torch.Size([64, 10])\n"
     ]
    }
   ],
   "source": [
    "# Download and/or load dataset (thanks Yann), and transform to tensors, and one-hot encodings\n",
    "target_transform = Lambda(lambda y: torch.zeros(10, dtype=torch.float).scatter_(0, torch.tensor(y), value=1))\n",
    "train = MNIST(root=\"data\", transform=ToTensor(), target_transform=target_transform, download=True)\n",
    "test = MNIST(root=\"data\", transform=ToTensor(), target_transform=target_transform, download=True)\n",
    "\n",
    "# Make dataloaders\n",
    "train_dataloader = DataLoader(train, batch_size=64)\n",
    "test_dataloader = DataLoader(test, batch_size=64)\n",
    "\n",
    "# Enumerate training dataloader\n",
    "examples = enumerate(train_dataloader)\n",
    "\n",
    "# Get first batch of samples and check shape\n",
    "batch_idx, (example_data, example_targets) = next(examples)\n",
    "print(example_data.shape)\n",
    "print(example_targets.shape)"
   ]
  },
  {
   "cell_type": "code",
   "execution_count": 3,
   "id": "509ad833",
   "metadata": {
    "scrolled": true
   },
   "outputs": [
    {
     "data": {
      "image/png": "[encoded data removed]",
      "text/plain": [
       "<Figure size 1080x288 with 3 Axes>"
      ]
     },
     "metadata": {
      "needs_background": "light"
     },
     "output_type": "display_data"
    }
   ],
   "source": [
    "# Show first few inputs and labels\n",
    "fig, (ax1, ax2, ax3) = plt.subplots(1, 3, figsize=(15, 4))\n",
    "for i in range(3):\n",
    "    ax = [ax1, ax2, ax3][i]\n",
    "    ax.imshow(example_data[i][0])\n",
    "    ax.set_title(f\"{example_targets[i].argmax(0)}\")\n",
    "plt.show()"
   ]
  },
  {
   "cell_type": "markdown",
   "id": "404674bf",
   "metadata": {},
   "source": [
    "## Build neural network model"
   ]
  },
  {
   "cell_type": "code",
   "execution_count": 4,
   "id": "b87cbfb7",
   "metadata": {},
   "outputs": [
    {
     "name": "stdout",
     "output_type": "stream",
     "text": [
      "Input: torch.Size([1, 28, 28])\n",
      "Flattened: torch.Size([1, 784])\n",
      "Linear: tensor([[ 0.2939,  0.3932, -0.2364,  0.3076]], grad_fn=<AddmmBackward0>)\n",
      "ReLU: tensor([[0.2939, 0.3932, 0.0000, 0.3076]], grad_fn=<ReluBackward0>)\n",
      "Model: tensor([[-0.2723,  0.7258, -0.1613, -0.3001]], grad_fn=<AddmmBackward0>)\n",
      "Probabilities: tensor([[0.1723, 0.4675, 0.1925, 0.1676]], grad_fn=<SoftmaxBackward0>)\n",
      "Predicted class: tensor([1])\n"
     ]
    }
   ],
   "source": [
    "# Breakdown modelling functions\n",
    "X = torch.rand(1, 28, 28)\n",
    "print(f\"Input: {X.shape}\")\n",
    "X_flat = nn.Flatten()(X)\n",
    "print(f\"Flattened: {X_flat.shape}\")\n",
    "X_l = nn.Linear(28*28, 4)(X_flat)\n",
    "print(f\"Linear: {X_l}\")\n",
    "X_r = nn.ReLU()(X_l)\n",
    "print(f\"ReLU: {X_r}\")\n",
    "logits = nn.Linear(4, 4)(X_r)\n",
    "print(f\"Model: {logits}\")\n",
    "pred_probab = nn.Softmax(dim=1)(logits)\n",
    "print(f\"Probabilities: {pred_probab}\")\n",
    "print(f\"Predicted class: {pred_probab.argmax(1)}\")"
   ]
  },
  {
   "cell_type": "code",
   "execution_count": 5,
   "id": "7a8008a3",
   "metadata": {},
   "outputs": [
    {
     "data": {
      "text/plain": [
       "tensor([[ 0.0295, -0.0743,  0.0106, -0.0335, -0.0694, -0.0436, -0.0259, -0.0419,\n",
       "          0.0284, -0.0412]], grad_fn=<AddmmBackward0>)"
      ]
     },
     "execution_count": 5,
     "metadata": {},
     "output_type": "execute_result"
    }
   ],
   "source": [
    "# Create a neural network\n",
    "seq_modules = nn.Sequential(\n",
    "    nn.Linear(28*28, 512),\n",
    "    nn.ReLU(),\n",
    "    nn.Linear(512, 512),\n",
    "    nn.ReLU(),\n",
    "    nn.Linear(512, 10),\n",
    ")\n",
    "seq_modules(X_flat)"
   ]
  },
  {
   "cell_type": "code",
   "execution_count": 6,
   "id": "8cf396b1",
   "metadata": {},
   "outputs": [],
   "source": [
    "# Create neural network model class\n",
    "class NeuralNetwork(nn.Module):\n",
    "    def __init__(self, seq_modules):\n",
    "        super(NeuralNetwork, self).__init__()\n",
    "        self.flatten = nn.Flatten()\n",
    "        self.linear_relu_stack = seq_modules\n",
    "\n",
    "    def forward(self, x):\n",
    "        x = self.flatten(x)\n",
    "        logits = self.linear_relu_stack(x)\n",
    "        return logits"
   ]
  },
  {
   "cell_type": "code",
   "execution_count": 7,
   "id": "d558ec3d",
   "metadata": {
    "scrolled": true
   },
   "outputs": [
    {
     "name": "stdout",
     "output_type": "stream",
     "text": [
      "NeuralNetwork(\n",
      "  (flatten): Flatten(start_dim=1, end_dim=-1)\n",
      "  (linear_relu_stack): Sequential(\n",
      "    (0): Linear(in_features=784, out_features=512, bias=True)\n",
      "    (1): ReLU()\n",
      "    (2): Linear(in_features=512, out_features=512, bias=True)\n",
      "    (3): ReLU()\n",
      "    (4): Linear(in_features=512, out_features=10, bias=True)\n",
      "  )\n",
      ")\n"
     ]
    }
   ],
   "source": [
    "# Create neural network model\n",
    "model = NeuralNetwork(seq_modules)\n",
    "print(model)"
   ]
  },
  {
   "cell_type": "code",
   "execution_count": 8,
   "id": "057dd52d",
   "metadata": {},
   "outputs": [
    {
     "name": "stdout",
     "output_type": "stream",
     "text": [
      "Layer: linear_relu_stack.0.weight\n",
      "Size: torch.Size([512, 784])\n",
      "Values : tensor([[-0.0065,  0.0070,  0.0206,  ..., -0.0197, -0.0236, -0.0235],\n",
      "        [ 0.0246,  0.0034,  0.0152,  ..., -0.0008, -0.0063, -0.0210]],\n",
      "       grad_fn=<SliceBackward0>) \n",
      "\n"
     ]
    }
   ],
   "source": [
    "name, param = next(model.named_parameters())\n",
    "print(f\"Layer: {name}\")\n",
    "print(f\"Size: {param.size()}\")\n",
    "print(f\"Values : {param[:2]} \\n\")"
   ]
  },
  {
   "cell_type": "code",
   "execution_count": 9,
   "id": "4a50e7f0",
   "metadata": {},
   "outputs": [
    {
     "data": {
      "text/plain": [
       "tensor([[ 0.0295, -0.0743,  0.0106, -0.0335, -0.0694, -0.0436, -0.0259, -0.0419,\n",
       "          0.0284, -0.0412]], grad_fn=<AddmmBackward0>)"
      ]
     },
     "execution_count": 9,
     "metadata": {},
     "output_type": "execute_result"
    }
   ],
   "source": [
    "# Use model to get predictions\n",
    "model(X)"
   ]
  },
  {
   "cell_type": "markdown",
   "id": "ffe0ec76",
   "metadata": {},
   "source": [
    "## Move model to GPU"
   ]
  },
  {
   "cell_type": "code",
   "execution_count": 10,
   "id": "54f1c8b4",
   "metadata": {},
   "outputs": [
    {
     "name": "stdout",
     "output_type": "stream",
     "text": [
      "Using cuda device\n"
     ]
    }
   ],
   "source": [
    "# Set device to GPU or CPU\n",
    "device = \"cuda\" if torch.cuda.is_available() else \"cpu\"\n",
    "print(f\"Using {device} device\")"
   ]
  },
  {
   "cell_type": "code",
   "execution_count": 11,
   "id": "ff94cdec",
   "metadata": {},
   "outputs": [],
   "source": [
    "# Create neural network model\n",
    "model = model.to(device)"
   ]
  },
  {
   "cell_type": "code",
   "execution_count": 12,
   "id": "9c16cf47",
   "metadata": {},
   "outputs": [
    {
     "name": "stdout",
     "output_type": "stream",
     "text": [
      "Model: tensor([[-0.0179, -0.1040, -0.0281, -0.0458, -0.0220, -0.0795, -0.0320,  0.0288,\n",
      "          0.0463, -0.0481]], device='cuda:0', grad_fn=<AddmmBackward0>)\n"
     ]
    }
   ],
   "source": [
    "# Use model to get predictions on GPU\n",
    "X = torch.rand(1, 28, 28, device=device)\n",
    "logits = model(X)\n",
    "print(f\"Model: {logits}\")"
   ]
  },
  {
   "cell_type": "markdown",
   "id": "1e1538c8",
   "metadata": {},
   "source": [
    "## Define training/validation functions"
   ]
  },
  {
   "cell_type": "code",
   "execution_count": 13,
   "id": "b397282b",
   "metadata": {},
   "outputs": [],
   "source": [
    "def train_loop(dataloader, model, loss_fn, optimizer):\n",
    "    size = len(dataloader.dataset)\n",
    "    for batch, (X, y) in enumerate(dataloader):\n",
    "        # Compute prediction and loss\n",
    "        pred = model(X.to(device))\n",
    "        loss = loss_fn(pred, y.to(device))\n",
    "\n",
    "        # Backpropagation\n",
    "        optimizer.zero_grad()\n",
    "        loss.backward()\n",
    "        optimizer.step()\n",
    "\n",
    "        if batch % 100 == 0:\n",
    "            loss, current = loss.item(), batch * len(X)\n",
    "            print(f\"loss: {loss:>7f}  [{current:>5d}/{size:>5d}]\")\n",
    "\n",
    "\n",
    "def test_loop(dataloader, model, loss_fn):\n",
    "    size = len(dataloader.dataset)\n",
    "    num_batches = len(dataloader)\n",
    "    test_loss, correct = 0, 0\n",
    "\n",
    "    with torch.no_grad():\n",
    "        for X, y in dataloader:\n",
    "            y = y.to(device)\n",
    "            pred = model(X.to(device))\n",
    "            test_loss += loss_fn(pred, y).item()\n",
    "            correct += (pred.argmax(1) == y.argmax(1)).type(torch.float).sum().item()\n",
    "\n",
    "    test_loss /= num_batches\n",
    "    correct /= size\n",
    "    print(f\"Test Error: \\n Accuracy: {(100*correct):>0.1f}%, Avg loss: {test_loss:>8f} \\n\")\n",
    "    \n",
    "    return correct"
   ]
  },
  {
   "cell_type": "markdown",
   "id": "bdc1904f",
   "metadata": {},
   "source": [
    "## Train model"
   ]
  },
  {
   "cell_type": "code",
   "execution_count": 14,
   "id": "489ecbb7",
   "metadata": {},
   "outputs": [],
   "source": [
    "learning_rate = 1e-3\n",
    "loss_fn = nn.CrossEntropyLoss()\n",
    "optimizer = torch.optim.SGD(model.parameters(), lr=learning_rate)"
   ]
  },
  {
   "cell_type": "code",
   "execution_count": 15,
   "id": "02be9f98",
   "metadata": {
    "scrolled": true
   },
   "outputs": [
    {
     "name": "stdout",
     "output_type": "stream",
     "text": [
      "Epoch 1\n",
      "-------------------------------\n",
      "loss: 2.295969  [    0/60000]\n",
      "loss: 2.296462  [ 6400/60000]\n",
      "loss: 2.293902  [12800/60000]\n",
      "loss: 2.274433  [19200/60000]\n",
      "loss: 2.280529  [25600/60000]\n",
      "loss: 2.279639  [32000/60000]\n",
      "loss: 2.268286  [38400/60000]\n",
      "loss: 2.272213  [44800/60000]\n",
      "loss: 2.255246  [51200/60000]\n",
      "loss: 2.248823  [57600/60000]\n",
      "Test Error: \n",
      " Accuracy: 41.6%, Avg loss: 2.252288 \n",
      "\n",
      "Epoch 2\n",
      "-------------------------------\n",
      "loss: 2.246755  [    0/60000]\n",
      "loss: 2.244427  [ 6400/60000]\n",
      "loss: 2.252091  [12800/60000]\n",
      "loss: 2.208787  [19200/60000]\n",
      "loss: 2.228142  [25600/60000]\n",
      "loss: 2.229072  [32000/60000]\n",
      "loss: 2.207558  [38400/60000]\n",
      "loss: 2.225825  [44800/60000]\n",
      "loss: 2.188483  [51200/60000]\n",
      "loss: 2.180459  [57600/60000]\n",
      "Test Error: \n",
      " Accuracy: 55.9%, Avg loss: 2.184579 \n",
      "\n",
      "Epoch 3\n",
      "-------------------------------\n",
      "loss: 2.175872  [    0/60000]\n",
      "loss: 2.168421  [ 6400/60000]\n",
      "loss: 2.189564  [12800/60000]\n",
      "loss: 2.107490  [19200/60000]\n",
      "loss: 2.144584  [25600/60000]\n",
      "loss: 2.145937  [32000/60000]\n",
      "loss: 2.108141  [38400/60000]\n",
      "loss: 2.144970  [44800/60000]\n",
      "loss: 2.078069  [51200/60000]\n",
      "loss: 2.064633  [57600/60000]\n",
      "Test Error: \n",
      " Accuracy: 62.0%, Avg loss: 2.068928 \n",
      "\n",
      "Epoch 4\n",
      "-------------------------------\n",
      "loss: 2.056921  [    0/60000]\n",
      "loss: 2.039365  [ 6400/60000]\n",
      "loss: 2.077624  [12800/60000]\n",
      "loss: 1.937983  [19200/60000]\n",
      "loss: 1.997135  [25600/60000]\n",
      "loss: 1.996587  [32000/60000]\n",
      "loss: 1.933497  [38400/60000]\n",
      "loss: 1.998228  [44800/60000]\n",
      "loss: 1.887621  [51200/60000]\n",
      "loss: 1.864448  [57600/60000]\n",
      "Test Error: \n",
      " Accuracy: 66.5%, Avg loss: 1.867949 \n",
      "\n",
      "Epoch 5\n",
      "-------------------------------\n",
      "loss: 1.856497  [    0/60000]\n",
      "loss: 1.818768  [ 6400/60000]\n",
      "loss: 1.876476  [12800/60000]\n",
      "loss: 1.672626  [19200/60000]\n",
      "loss: 1.747698  [25600/60000]\n",
      "loss: 1.743507  [32000/60000]\n",
      "loss: 1.656523  [38400/60000]\n",
      "loss: 1.759744  [44800/60000]\n",
      "loss: 1.602371  [51200/60000]\n",
      "loss: 1.570967  [57600/60000]\n",
      "Test Error: \n",
      " Accuracy: 70.6%, Avg loss: 1.571381 \n",
      "\n",
      "Epoch 6\n",
      "-------------------------------\n",
      "loss: 1.571215  [    0/60000]\n",
      "loss: 1.503544  [ 6400/60000]\n",
      "loss: 1.576452  [12800/60000]\n",
      "loss: 1.352788  [19200/60000]\n",
      "loss: 1.419047  [25600/60000]\n",
      "loss: 1.413023  [32000/60000]\n",
      "loss: 1.319727  [38400/60000]\n",
      "loss: 1.466025  [44800/60000]\n",
      "loss: 1.296163  [51200/60000]\n",
      "loss: 1.262079  [57600/60000]\n",
      "Test Error: \n",
      " Accuracy: 75.9%, Avg loss: 1.258461 \n",
      "\n",
      "Epoch 7\n",
      "-------------------------------\n",
      "loss: 1.278430  [    0/60000]\n",
      "loss: 1.187086  [ 6400/60000]\n",
      "loss: 1.262399  [12800/60000]\n",
      "loss: 1.079216  [19200/60000]\n",
      "loss: 1.122127  [25600/60000]\n",
      "loss: 1.115558  [32000/60000]\n",
      "loss: 1.029557  [38400/60000]\n",
      "loss: 1.202308  [44800/60000]\n",
      "loss: 1.055636  [51200/60000]\n",
      "loss: 1.019498  [57600/60000]\n",
      "Test Error: \n",
      " Accuracy: 79.3%, Avg loss: 1.016141 \n",
      "\n",
      "Epoch 8\n",
      "-------------------------------\n",
      "loss: 1.054075  [    0/60000]\n",
      "loss: 0.951808  [ 6400/60000]\n",
      "loss: 1.018203  [12800/60000]\n",
      "loss: 0.886631  [19200/60000]\n",
      "loss: 0.913797  [25600/60000]\n",
      "loss: 0.904867  [32000/60000]\n",
      "loss: 0.826913  [38400/60000]\n",
      "loss: 1.008203  [44800/60000]\n",
      "loss: 0.890845  [51200/60000]\n",
      "loss: 0.856371  [57600/60000]\n",
      "Test Error: \n",
      " Accuracy: 81.4%, Avg loss: 0.850854 \n",
      "\n",
      "Epoch 9\n",
      "-------------------------------\n",
      "loss: 0.897897  [    0/60000]\n",
      "loss: 0.792974  [ 6400/60000]\n",
      "loss: 0.850323  [12800/60000]\n",
      "loss: 0.757853  [19200/60000]\n",
      "loss: 0.773945  [25600/60000]\n",
      "loss: 0.763484  [32000/60000]\n",
      "loss: 0.689805  [38400/60000]\n",
      "loss: 0.872774  [44800/60000]\n",
      "loss: 0.777919  [51200/60000]\n",
      "loss: 0.749611  [57600/60000]\n",
      "Test Error: \n",
      " Accuracy: 82.8%, Avg loss: 0.738177 \n",
      "\n",
      "Epoch 10\n",
      "-------------------------------\n",
      "loss: 0.787844  [    0/60000]\n",
      "loss: 0.682922  [ 6400/60000]\n",
      "loss: 0.734683  [12800/60000]\n",
      "loss: 0.671349  [19200/60000]\n",
      "loss: 0.675585  [25600/60000]\n",
      "loss: 0.667172  [32000/60000]\n",
      "loss: 0.593305  [38400/60000]\n",
      "loss: 0.777738  [44800/60000]\n",
      "loss: 0.697131  [51200/60000]\n",
      "loss: 0.677823  [57600/60000]\n",
      "Test Error: \n",
      " Accuracy: 83.9%, Avg loss: 0.658664 \n",
      "\n",
      "Done!\n"
     ]
    }
   ],
   "source": [
    "last_correct = 0\n",
    "for t in range(10):\n",
    "    print(f\"Epoch {t+1}\\n-------------------------------\")\n",
    "    train_loop(train_dataloader, model, loss_fn, optimizer)\n",
    "    correct = test_loop(test_dataloader, model, loss_fn)\n",
    "    if correct - last_correct < 0.01:\n",
    "        break\n",
    "    else:\n",
    "        last_correct = correct\n",
    "print(\"Done!\")"
   ]
  },
  {
   "cell_type": "markdown",
   "id": "5ed1705b",
   "metadata": {},
   "source": [
    "## Save/load model"
   ]
  },
  {
   "cell_type": "code",
   "execution_count": 16,
   "id": "62d09173",
   "metadata": {},
   "outputs": [],
   "source": [
    "torch.save(model, 'models/ff_mnist')"
   ]
  },
  {
   "cell_type": "code",
   "execution_count": 17,
   "id": "6a4ae208",
   "metadata": {},
   "outputs": [],
   "source": [
    "model = torch.load('models/ff_mnist')"
   ]
  },
  {
   "cell_type": "markdown",
   "id": "7c5f08c4",
   "metadata": {},
   "source": [
    "## Check predictions"
   ]
  },
  {
   "cell_type": "code",
   "execution_count": 18,
   "id": "052ba941",
   "metadata": {},
   "outputs": [
    {
     "data": {
      "image/png": "[encoded data removed]",
      "text/plain": [
       "<Figure size 1080x288 with 3 Axes>"
      ]
     },
     "metadata": {
      "needs_background": "light"
     },
     "output_type": "display_data"
    }
   ],
   "source": [
    "# Show first few sample inputs and predictions\n",
    "fig, (ax1, ax2, ax3) = plt.subplots(1, 3, figsize=(15, 4))\n",
    "for i in range(3):\n",
    "    ax = [ax1, ax2, ax3][i]\n",
    "    ax.imshow(example_data[i][0])\n",
    "    ax.set_title(f\"{model(example_data[i].to(device)).argmax(1)}\")\n",
    "plt.show()"
   ]
  }
 ],
 "metadata": {
  "kernelspec": {
   "display_name": "Python 3 (ipykernel)",
   "language": "python",
   "name": "python3"
  },
  "language_info": {
   "codemirror_mode": {
    "name": "ipython",
    "version": 3
   },
   "file_extension": ".py",
   "mimetype": "text/x-python",
   "name": "python",
   "nbconvert_exporter": "python",
   "pygments_lexer": "ipython3",
   "version": "3.9.7"
  }
 },
 "nbformat": 4,
 "nbformat_minor": 5
}
